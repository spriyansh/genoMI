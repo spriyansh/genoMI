{
 "cells": [
  {
   "cell_type": "markdown",
   "metadata": {},
   "source": [
    "## Data Wrangling-MetaData\n",
    "---"
   ]
  },
  {
   "cell_type": "markdown",
   "metadata": {},
   "source": [
    "### - Present notebook uses _pandas_ (version 1.1.1), to curate and clean information from any MetaData file\n",
    "### - Generates sample information used by the ML-Classifiers\n",
    "### - File used in this notebook can be downloaded form [GREIN](http://www.ilincs.org/apps/grein/session/3ac4c6e5dd644337909800e52c1ba8f1/download/downloadmeta?w=)"
   ]
  },
  {
   "cell_type": "markdown",
   "metadata": {},
   "source": [
    "#### Step 1: Load libraries"
   ]
  },
  {
   "cell_type": "code",
   "execution_count": 1,
   "metadata": {},
   "outputs": [],
   "source": [
    "# Pandas for Dataframe processing\n",
    "import pandas as pd\n",
    "\n",
    "# This will print entire output of the cell\n",
    "from IPython.core.interactiveshell import InteractiveShell\n",
    "InteractiveShell.ast_node_interactivity = \"all\""
   ]
  },
  {
   "cell_type": "markdown",
   "metadata": {},
   "source": [
    "#### Step 2: Load the raw metadata file\n",
    "- File used in this notebook can be downloaded form [GREIN](http://www.ilincs.org/apps/grein/session/3ac4c6e5dd644337909800e52c1ba8f1/download/downloadmeta?w=)"
   ]
  },
  {
   "cell_type": "code",
   "execution_count": 2,
   "metadata": {},
   "outputs": [
    {
     "data": {
      "text/html": [
       "<div>\n",
       "<style scoped>\n",
       "    .dataframe tbody tr th:only-of-type {\n",
       "        vertical-align: middle;\n",
       "    }\n",
       "\n",
       "    .dataframe tbody tr th {\n",
       "        vertical-align: top;\n",
       "    }\n",
       "\n",
       "    .dataframe thead th {\n",
       "        text-align: right;\n",
       "    }\n",
       "</style>\n",
       "<table border=\"1\" class=\"dataframe\">\n",
       "  <thead>\n",
       "    <tr style=\"text-align: right;\">\n",
       "      <th></th>\n",
       "      <th>geo_accession</th>\n",
       "      <th>title</th>\n",
       "      <th>status</th>\n",
       "      <th>submission_date</th>\n",
       "      <th>last_update_date</th>\n",
       "      <th>type</th>\n",
       "      <th>channel_count</th>\n",
       "      <th>source_name_ch1</th>\n",
       "      <th>organism_ch1</th>\n",
       "      <th>characteristics_ch1</th>\n",
       "      <th>...</th>\n",
       "      <th>BioSample</th>\n",
       "      <th>SampleType</th>\n",
       "      <th>TaxID</th>\n",
       "      <th>ScientificName</th>\n",
       "      <th>Tumor</th>\n",
       "      <th>CenterName</th>\n",
       "      <th>Submission</th>\n",
       "      <th>Consent</th>\n",
       "      <th>RunHash</th>\n",
       "      <th>ReadHash</th>\n",
       "    </tr>\n",
       "  </thead>\n",
       "  <tbody>\n",
       "    <tr>\n",
       "      <th>GSM2754496</th>\n",
       "      <td>GSM2754496</td>\n",
       "      <td>100_04_0779_DAY_0_T_Ag85_100_L8.LB23</td>\n",
       "      <td>Public on Oct 17 2017</td>\n",
       "      <td>Aug 27 2017</td>\n",
       "      <td>Oct 17 2017</td>\n",
       "      <td>SRA</td>\n",
       "      <td>1</td>\n",
       "      <td>T cells</td>\n",
       "      <td>Homo sapiens</td>\n",
       "      <td>cell type: Tcells</td>\n",
       "      <td>...</td>\n",
       "      <td>SAMN07564511</td>\n",
       "      <td>simple</td>\n",
       "      <td>9606</td>\n",
       "      <td>Homo sapiens</td>\n",
       "      <td>no</td>\n",
       "      <td>GEO</td>\n",
       "      <td>SRA603022</td>\n",
       "      <td>public</td>\n",
       "      <td>55B430EF91FD45723A75A0F83E487566</td>\n",
       "      <td>A1E7835851FA48F2F69C0DBF1E4E0640</td>\n",
       "    </tr>\n",
       "  </tbody>\n",
       "</table>\n",
       "<p>1 rows × 80 columns</p>\n",
       "</div>"
      ],
      "text/plain": [
       "           geo_accession                                 title  \\\n",
       "GSM2754496    GSM2754496  100_04_0779_DAY_0_T_Ag85_100_L8.LB23   \n",
       "\n",
       "                           status submission_date last_update_date type  \\\n",
       "GSM2754496  Public on Oct 17 2017     Aug 27 2017      Oct 17 2017  SRA   \n",
       "\n",
       "            channel_count source_name_ch1  organism_ch1 characteristics_ch1  \\\n",
       "GSM2754496              1         T cells  Homo sapiens   cell type: Tcells   \n",
       "\n",
       "            ...     BioSample SampleType TaxID ScientificName Tumor  \\\n",
       "GSM2754496  ...  SAMN07564511     simple  9606   Homo sapiens    no   \n",
       "\n",
       "           CenterName Submission Consent                           RunHash  \\\n",
       "GSM2754496        GEO  SRA603022  public  55B430EF91FD45723A75A0F83E487566   \n",
       "\n",
       "                                    ReadHash  \n",
       "GSM2754496  A1E7835851FA48F2F69C0DBF1E4E0640  \n",
       "\n",
       "[1 rows x 80 columns]"
      ]
     },
     "execution_count": 2,
     "metadata": {},
     "output_type": "execute_result"
    },
    {
     "data": {
      "text/plain": [
       "(1650, 80)"
      ]
     },
     "execution_count": 2,
     "metadata": {},
     "output_type": "execute_result"
    }
   ],
   "source": [
    "# Import the MetaData file\n",
    "MetaData = pd.read_csv(\"GSE103147_full_metadata.csv\", index_col = 0)\n",
    "\n",
    "# Viewing \n",
    "MetaData.head(1)\n",
    "\n",
    "# Dimensions\n",
    "MetaData.shape"
   ]
  },
  {
   "cell_type": "markdown",
   "metadata": {},
   "source": [
    "#### Step 3: Boolean Subsetting (Case Samples)\n",
    "- Conditions used,\n",
    "\n",
    "a. characteristics_ch1 = cell type: Tcells\n",
    "\n",
    "b. characteristics_ch1.3 = timepoint: 0\n",
    "\n",
    "c. characteristics_ch1.5 = group: __case__\n",
    "\n",
    "d. characteristics_ch1.1 =  stimulation: unstim"
   ]
  },
  {
   "cell_type": "code",
   "execution_count": 3,
   "metadata": {},
   "outputs": [
    {
     "data": {
      "text/html": [
       "<div>\n",
       "<style scoped>\n",
       "    .dataframe tbody tr th:only-of-type {\n",
       "        vertical-align: middle;\n",
       "    }\n",
       "\n",
       "    .dataframe tbody tr th {\n",
       "        vertical-align: top;\n",
       "    }\n",
       "\n",
       "    .dataframe thead th {\n",
       "        text-align: right;\n",
       "    }\n",
       "</style>\n",
       "<table border=\"1\" class=\"dataframe\">\n",
       "  <thead>\n",
       "    <tr style=\"text-align: right;\">\n",
       "      <th></th>\n",
       "      <th>Run</th>\n",
       "      <th>Labels</th>\n",
       "    </tr>\n",
       "  </thead>\n",
       "  <tbody>\n",
       "    <tr>\n",
       "      <th>GSM2755030</th>\n",
       "      <td>SRR5980958</td>\n",
       "      <td>Case</td>\n",
       "    </tr>\n",
       "    <tr>\n",
       "      <th>GSM2755033</th>\n",
       "      <td>SRR5980961</td>\n",
       "      <td>Case</td>\n",
       "    </tr>\n",
       "  </tbody>\n",
       "</table>\n",
       "</div>"
      ],
      "text/plain": [
       "                   Run Labels\n",
       "GSM2755030  SRR5980958   Case\n",
       "GSM2755033  SRR5980961   Case"
      ]
     },
     "execution_count": 3,
     "metadata": {},
     "output_type": "execute_result"
    },
    {
     "data": {
      "text/plain": [
       "(40, 2)"
      ]
     },
     "execution_count": 3,
     "metadata": {},
     "output_type": "execute_result"
    }
   ],
   "source": [
    "# Making boolean dataFrame\n",
    "Case=(MetaData[\"characteristics_ch1\"]== \"cell type: Tcells\") & (MetaData[\"characteristics_ch1.3\"]==\"timepoint: 0\") & (MetaData[\"characteristics_ch1.5\"]==\"group: case\") & (MetaData[\"characteristics_ch1.1\"]==\"stimulation: unstim\")\n",
    "\n",
    "# Subsetting with boolean dataFrame\n",
    "Case_samples = MetaData[\"Run\"][Case]\n",
    "\n",
    "# Converting pandas series to dataFrame\n",
    "case_samples = pd.DataFrame(Case_samples)\n",
    "\n",
    "# Adding new columns with labels\n",
    "case_samples['Labels'] = \"Case\"\n",
    "\n",
    "# Viewing \n",
    "case_samples.head(2)\n",
    "\n",
    "# Dimensions\n",
    "case_samples.shape"
   ]
  },
  {
   "cell_type": "markdown",
   "metadata": {},
   "source": [
    "#### Step 4: Boolean Subsetting (Control Samples)\n",
    "- Conditions used,\n",
    "\n",
    "a. characteristics_ch1 = cell type: Tcells\n",
    "\n",
    "b. characteristics_ch1.3 = timepoint: 0\n",
    "\n",
    "c. characteristics_ch1.5 = group: __control__\n",
    "\n",
    "d. characteristics_ch1.1 =  stimulation: unstim"
   ]
  },
  {
   "cell_type": "code",
   "execution_count": 4,
   "metadata": {},
   "outputs": [
    {
     "data": {
      "text/html": [
       "<div>\n",
       "<style scoped>\n",
       "    .dataframe tbody tr th:only-of-type {\n",
       "        vertical-align: middle;\n",
       "    }\n",
       "\n",
       "    .dataframe tbody tr th {\n",
       "        vertical-align: top;\n",
       "    }\n",
       "\n",
       "    .dataframe thead th {\n",
       "        text-align: right;\n",
       "    }\n",
       "</style>\n",
       "<table border=\"1\" class=\"dataframe\">\n",
       "  <thead>\n",
       "    <tr style=\"text-align: right;\">\n",
       "      <th></th>\n",
       "      <th>Run</th>\n",
       "      <th>Labels</th>\n",
       "    </tr>\n",
       "  </thead>\n",
       "  <tbody>\n",
       "    <tr>\n",
       "      <th>GSM2755031</th>\n",
       "      <td>SRR5980959</td>\n",
       "      <td>Control</td>\n",
       "    </tr>\n",
       "    <tr>\n",
       "      <th>GSM2755032</th>\n",
       "      <td>SRR5980960</td>\n",
       "      <td>Control</td>\n",
       "    </tr>\n",
       "  </tbody>\n",
       "</table>\n",
       "</div>"
      ],
      "text/plain": [
       "                   Run   Labels\n",
       "GSM2755031  SRR5980959  Control\n",
       "GSM2755032  SRR5980960  Control"
      ]
     },
     "execution_count": 4,
     "metadata": {},
     "output_type": "execute_result"
    },
    {
     "data": {
      "text/plain": [
       "(73, 2)"
      ]
     },
     "execution_count": 4,
     "metadata": {},
     "output_type": "execute_result"
    }
   ],
   "source": [
    "# Making boolean dataFrame\n",
    "Control=(MetaData[\"characteristics_ch1\"]== \"cell type: Tcells\") & (MetaData[\"characteristics_ch1.3\"]==\"timepoint: 0\") & (MetaData[\"characteristics_ch1.5\"]==\"group: control\") & (MetaData[\"characteristics_ch1.1\"]==\"stimulation: unstim\")\n",
    "\n",
    "# Subsetting with boolean dataFrame\n",
    "Control_samples = MetaData[\"Run\"][Control]\n",
    "\n",
    "# Converting pandas series to dataFrame\n",
    "control_samples = pd.DataFrame(Control_samples)\n",
    "\n",
    "# Adding new columns with labels as 0\n",
    "control_samples['Labels'] = \"Control\"\n",
    "\n",
    "# Viewing \n",
    "control_samples.head(2)\n",
    "\n",
    "# Dimensions\n",
    "control_samples.shape"
   ]
  },
  {
   "cell_type": "markdown",
   "metadata": {},
   "source": [
    "#### Step 5: Concatenation\n",
    "- Concatenation of case and control dataframes\n",
    "- Label __\"1\"__ denotes case samples\n",
    "- Label __\"0\"__ denotes control samples"
   ]
  },
  {
   "cell_type": "code",
   "execution_count": 5,
   "metadata": {},
   "outputs": [
    {
     "data": {
      "text/html": [
       "<div>\n",
       "<style scoped>\n",
       "    .dataframe tbody tr th:only-of-type {\n",
       "        vertical-align: middle;\n",
       "    }\n",
       "\n",
       "    .dataframe tbody tr th {\n",
       "        vertical-align: top;\n",
       "    }\n",
       "\n",
       "    .dataframe thead th {\n",
       "        text-align: right;\n",
       "    }\n",
       "</style>\n",
       "<table border=\"1\" class=\"dataframe\">\n",
       "  <thead>\n",
       "    <tr style=\"text-align: right;\">\n",
       "      <th></th>\n",
       "      <th>Run</th>\n",
       "      <th>Labels</th>\n",
       "    </tr>\n",
       "  </thead>\n",
       "  <tbody>\n",
       "    <tr>\n",
       "      <th>GSM2755031</th>\n",
       "      <td>SRR5980959</td>\n",
       "      <td>Control</td>\n",
       "    </tr>\n",
       "    <tr>\n",
       "      <th>GSM2755032</th>\n",
       "      <td>SRR5980960</td>\n",
       "      <td>Control</td>\n",
       "    </tr>\n",
       "  </tbody>\n",
       "</table>\n",
       "</div>"
      ],
      "text/plain": [
       "                   Run   Labels\n",
       "GSM2755031  SRR5980959  Control\n",
       "GSM2755032  SRR5980960  Control"
      ]
     },
     "execution_count": 5,
     "metadata": {},
     "output_type": "execute_result"
    },
    {
     "data": {
      "text/plain": [
       "(113, 2)"
      ]
     },
     "execution_count": 5,
     "metadata": {},
     "output_type": "execute_result"
    }
   ],
   "source": [
    "# Extract Samples with labels\n",
    "sample_id_map = pd.concat([control_samples, case_samples], axis = 0)\n",
    "sample_id_map.head(2)\n",
    "sample_id_map.shape"
   ]
  },
  {
   "cell_type": "markdown",
   "metadata": {},
   "source": [
    "#### Step 6: Save the file\n",
    "- Save the file without the index column"
   ]
  },
  {
   "cell_type": "code",
   "execution_count": 6,
   "metadata": {},
   "outputs": [],
   "source": [
    "# Saving the file without Index\n",
    "sample_id_map.to_csv(\"Sample_Labels.csv\", index = False)"
   ]
  },
  {
   "cell_type": "markdown",
   "metadata": {},
   "source": [
    "---"
   ]
  }
 ],
 "metadata": {
  "kernelspec": {
   "display_name": "Python 3",
   "language": "python",
   "name": "python3"
  },
  "language_info": {
   "codemirror_mode": {
    "name": "ipython",
    "version": 3
   },
   "file_extension": ".py",
   "mimetype": "text/x-python",
   "name": "python",
   "nbconvert_exporter": "python",
   "pygments_lexer": "ipython3",
   "version": "3.8.5"
  }
 },
 "nbformat": 4,
 "nbformat_minor": 4
}
