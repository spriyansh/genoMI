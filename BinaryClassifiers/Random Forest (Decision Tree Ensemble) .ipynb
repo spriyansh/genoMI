{
 "cells": [
  {
   "cell_type": "markdown",
   "metadata": {},
   "source": [
    "## Random Forest\n",
    "---"
   ]
  },
  {
   "cell_type": "markdown",
   "metadata": {},
   "source": [
    "### Random Forest (Decision Tree Ensemble)"
   ]
  },
  {
   "cell_type": "markdown",
   "metadata": {},
   "source": [
    "### Mathematical Elements"
   ]
  },
  {
   "cell_type": "markdown",
   "metadata": {},
   "source": [
    "#### Step 1: Load libraries"
   ]
  },
  {
   "cell_type": "code",
   "execution_count": 5,
   "metadata": {},
   "outputs": [],
   "source": [
    "# Libraries for Data Manipulation\n",
    "import pandas as pd\n",
    "import matplotlib.pyplot as plt\n",
    "\n",
    "# Import custom functions\n",
    "import estimate as es\n",
    "\n",
    "# Sklearn's Random Forests\n",
    "from sklearn.ensemble import RandomForestClassifier\n",
    "\n",
    "# This will print entire output of the cell\n",
    "from IPython.core.interactiveshell import InteractiveShell\n",
    "InteractiveShell.ast_node_interactivity = \"all\""
   ]
  },
  {
   "cell_type": "markdown",
   "metadata": {},
   "source": [
    "#### Step 2: Loading features and labels\n",
    "* Load as numpy-array for easier computation"
   ]
  },
  {
   "cell_type": "code",
   "execution_count": 2,
   "metadata": {},
   "outputs": [],
   "source": [
    "# Loading training data\n",
    "train_features = pd.read_csv(\"../DataPrep/training_features.csv\").values\n",
    "train_labels = pd.read_csv(\"../DataPrep/training_labels.csv\").values\n",
    "\n",
    "# Loading testing data\n",
    "test_features = pd.read_csv(\"../DataPrep/testing_features.csv\").values\n",
    "test_labels = pd.read_csv(\"../DataPrep/testing_labels.csv\").values"
   ]
  },
  {
   "cell_type": "markdown",
   "metadata": {},
   "source": [
    "#### Step 3: Fitting the model\n",
    "* Making object as ```clf``` for fitting the model on training data\n",
    "* Citeria for splitting is ```Entropy```\n",
    "* Specified random state for reproducibility"
   ]
  },
  {
   "cell_type": "code",
   "execution_count": 63,
   "metadata": {},
   "outputs": [
    {
     "name": "stderr",
     "output_type": "stream",
     "text": [
      "<ipython-input-63-75056957baca>:5: DataConversionWarning: A column-vector y was passed when a 1d array was expected. Please change the shape of y to (n_samples,), for example using ravel().\n",
      "  clf.fit(train_features, train_labels)\n"
     ]
    },
    {
     "data": {
      "text/plain": [
       "RandomForestClassifier(criterion='entropy', n_estimators=250, random_state=123)"
      ]
     },
     "execution_count": 63,
     "metadata": {},
     "output_type": "execute_result"
    }
   ],
   "source": [
    "# Making Object\n",
    "clf = RandomForestClassifier(criterion=\"entropy\", random_state=1234,  n_estimators=250)\n",
    "\n",
    "# Fitting on the training data\n",
    "clf.fit(train_features, train_labels)"
   ]
  },
  {
   "cell_type": "markdown",
   "metadata": {},
   "source": [
    "#### Step 4: Making predictions\n",
    "* Predcted the labels for test features using ```predict()``` method"
   ]
  },
  {
   "cell_type": "code",
   "execution_count": 64,
   "metadata": {},
   "outputs": [
    {
     "name": "stdout",
     "output_type": "stream",
     "text": [
      "Predicted labels are as follows-\n"
     ]
    },
    {
     "data": {
      "text/plain": [
       "array(['Control', 'Control', 'Control', 'Control', 'Control', 'Control',\n",
       "       'Control', 'Control', 'Control', 'Case', 'Control', 'Control',\n",
       "       'Control', 'Control', 'Control', 'Control', 'Control', 'Control',\n",
       "       'Control', 'Control', 'Control'], dtype=object)"
      ]
     },
     "execution_count": 64,
     "metadata": {},
     "output_type": "execute_result"
    }
   ],
   "source": [
    "# Predicting labels of the test data\n",
    "predictions = clf.predict(test_features)\n",
    "\n",
    "# Predictions\n",
    "print(\"Predicted labels are as follows-\")\n",
    "predictions"
   ]
  },
  {
   "cell_type": "markdown",
   "metadata": {},
   "source": [
    "#### Step 5: Performance Estimation\n",
    "* Using custom function ```estimate()```\n",
    "* ```estimate()``` accepts the actual labels and predicted labels\n",
    "* Produces performance parameters and confusion matrix with ```seaborn``` and ```confusion_matrix```"
   ]
  },
  {
   "cell_type": "code",
   "execution_count": 65,
   "metadata": {},
   "outputs": [
    {
     "name": "stdout",
     "output_type": "stream",
     "text": [
      "Accuracy: 52.38095238095239\n",
      "Specificity: 55.00000000000001\n",
      "Senstivity: 0.0\n",
      "Precision: 0.0\n",
      "Recall: 0.0\n",
      "F1 Score: nan\n"
     ]
    },
    {
     "name": "stderr",
     "output_type": "stream",
     "text": [
      "/home/sirius/TF/spriyanshGit/genoMI/BinaryClassifiers/estimate.py:42: RuntimeWarning: invalid value encountered in double_scalars\n",
      "  print(\"F1 Score: \" + str(2*((pre * rec)/(pre + rec))))\n"
     ]
    },
    {
     "data": {
      "image/png": "[encoded data removed]",
      "text/plain": [
       "<Figure size 144x144 with 2 Axes>"
      ]
     },
     "metadata": {
      "needs_background": "light"
     },
     "output_type": "display_data"
    }
   ],
   "source": [
    "# Passing actual labels and predicted labels\n",
    "es.estimate(test_labels, predictions)"
   ]
  },
  {
   "cell_type": "markdown",
   "metadata": {},
   "source": [
    "#### Step 6: Plotting learning curves\n",
    "* Using custom function ```plot_learning_curve()```\n",
    "* ```plot_learning_curve()``` takes the following arguments\n",
    "1. Model\n",
    "2. Plot title\n",
    "3. Training Features\n",
    "4. Training Labels"
   ]
  },
  {
   "cell_type": "code",
   "execution_count": 28,
   "metadata": {},
   "outputs": [
    {
     "data": {
      "text/plain": [
       "<module 'matplotlib.pyplot' from '/home/sirius/anaconda3/envs/tf/lib/python3.8/site-packages/matplotlib/pyplot.py'>"
      ]
     },
     "execution_count": 28,
     "metadata": {},
     "output_type": "execute_result"
    },
    {
     "data": {
      "image/png": "[encoded data removed]",
      "text/plain": [
       "<Figure size 1224x504 with 3 Axes>"
      ]
     },
     "metadata": {
      "needs_background": "light"
     },
     "output_type": "display_data"
    }
   ],
   "source": [
    "# Graph matrix and size\n",
    "fig, axes = plt.subplots(1, 3, figsize=(17, 7))\n",
    "\n",
    "# Passing to plots_learning_curve()\n",
    "es.plot_learning_curve(clf, \"Categorical Decision Tree\", train_features, train_labels, axes=axes[:, ], ylim=(0.2, 1.2),\n",
    "                    cv=None, n_jobs=4)\n",
    "# Showing the plot\n",
    "plt.show()"
   ]
  },
  {
   "cell_type": "markdown",
   "metadata": {},
   "source": [
    "---"
   ]
  },
  {
   "cell_type": "code",
   "execution_count": 30,
   "metadata": {},
   "outputs": [
    {
     "data": {
      "text/plain": [
       "(array([[  1,   0,  38],\n",
       "        [  0,   7, 374],\n",
       "        [  1,   6, 572],\n",
       "        [  0,   2, 538],\n",
       "        [ 33,   5, 860]]),\n",
       " array([['Case'],\n",
       "        ['Case'],\n",
       "        ['Case'],\n",
       "        ['Control'],\n",
       "        ['Control']], dtype=object),\n",
       " array([[  1,   6, 394],\n",
       "        [ 13,   4, 777]]),\n",
       " array([['Case'],\n",
       "        ['Control']], dtype=object))"
      ]
     },
     "execution_count": 30,
     "metadata": {},
     "output_type": "execute_result"
    }
   ],
   "source": [
    "#Sample frames\n",
    "xf = pd.DataFrame(train_features).iloc[0:5,0:3].values\n",
    "xl = pd.DataFrame(train_labels).iloc[0:5,:].values\n",
    "yf = pd.DataFrame(test_features).iloc[0:2,0:3].values\n",
    "yl = pd.DataFrame(test_labels).iloc[0:2,:].values\n",
    "xf, xl, yf, yl"
   ]
  },
  {
   "cell_type": "code",
   "execution_count": 34,
   "metadata": {},
   "outputs": [
    {
     "data": {
      "text/plain": [
       "DecisionTreeClassifier(criterion='entropy', random_state=1234)"
      ]
     },
     "execution_count": 34,
     "metadata": {},
     "output_type": "execute_result"
    },
    {
     "name": "stdout",
     "output_type": "stream",
     "text": [
      "Predicted labels are as follows-\n"
     ]
    },
    {
     "data": {
      "text/plain": [
       "array(['Case', 'Control'], dtype=object)"
      ]
     },
     "execution_count": 34,
     "metadata": {},
     "output_type": "execute_result"
    },
    {
     "name": "stdout",
     "output_type": "stream",
     "text": [
      "Accuracy: 100.0\n",
      "Specificity: 100.0\n",
      "Senstivity: 100.0\n",
      "Precision: 1.0\n",
      "Recall: 1.0\n",
      "F1 Score: 1.0\n"
     ]
    },
    {
     "data": {
      "image/png": "[encoded data removed]",
      "text/plain": [
       "<Figure size 144x144 with 2 Axes>"
      ]
     },
     "metadata": {
      "needs_background": "light"
     },
     "output_type": "display_data"
    }
   ],
   "source": [
    "# Making Object\n",
    "clf = tree.DecisionTreeClassifier(criterion = \"entropy\", random_state=1234)\n",
    "\n",
    "# Fitting on the training data\n",
    "clf.fit(xf, xl)\n",
    "\n",
    "# Predicting labels of the test data\n",
    "predictions = clf.predict(yf)\n",
    "\n",
    "# Predictions\n",
    "print(\"Predicted labels are as follows-\")\n",
    "predictions\n",
    "\n",
    "# Passing actual labels and predicted labels\n",
    "es.estimate(yl, predictions)"
   ]
  },
  {
   "cell_type": "code",
   "execution_count": null,
   "metadata": {},
   "outputs": [],
   "source": []
  },
  {
   "cell_type": "code",
   "execution_count": null,
   "metadata": {},
   "outputs": [],
   "source": []
  },
  {
   "cell_type": "code",
   "execution_count": null,
   "metadata": {},
   "outputs": [],
   "source": []
  },
  {
   "cell_type": "code",
   "execution_count": null,
   "metadata": {},
   "outputs": [],
   "source": []
  }
 ],
 "metadata": {
  "kernelspec": {
   "display_name": "Python 3",
   "language": "python",
   "name": "python3"
  },
  "language_info": {
   "codemirror_mode": {
    "name": "ipython",
    "version": 3
   },
   "file_extension": ".py",
   "mimetype": "text/x-python",
   "name": "python",
   "nbconvert_exporter": "python",
   "pygments_lexer": "ipython3",
   "version": "3.8.5"
  }
 },
 "nbformat": 4,
 "nbformat_minor": 4
}
